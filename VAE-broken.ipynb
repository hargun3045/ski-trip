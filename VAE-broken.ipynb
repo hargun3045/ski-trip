{
 "cells": [
  {
   "cell_type": "markdown",
   "metadata": {},
   "source": [
    "## Notes for Varshini\n",
    "\n",
    "1. Changed pre-processing because learning with MSE has these issues\n",
    " - Hard to train \n",
    " - Need to sum across pixels and not take the mean\n",
    " \n",
    "2. Changed the architecture bc.\n",
    " - KL divergence is low, but reconstruction error still very high\n",
    " \n",
    "3. Changed input shape from $(28,28)$ to $(28,28,1)$ because using conv layers"
   ]
  },
  {
   "cell_type": "code",
   "execution_count": 1,
   "metadata": {
    "id": "Oky2mXp_t1jZ"
   },
   "outputs": [],
   "source": [
    "import numpy as np\n",
    "import pandas as p\n",
    "import tensorflow as tf\n",
    "\n",
    "import matplotlib.pyplot as plt\n",
    "\n",
    "from tensorflow.keras.datasets import mnist\n",
    "from tensorflow.keras import layers, models, optimizers, regularizers\n"
   ]
  },
  {
   "cell_type": "code",
   "execution_count": 135,
   "metadata": {
    "id": "ZdL7eKx2Riq4"
   },
   "outputs": [],
   "source": [
    "# GET THE MNIST DATA\n",
    "(x_train, _), (x_test, _) = mnist.load_data()\n"
   ]
  },
  {
   "cell_type": "code",
   "execution_count": 167,
   "metadata": {},
   "outputs": [],
   "source": [
    "# Function to \n",
    "# 1. Change dimensions\n",
    "# 2. Change datatype\n",
    "def binary_preprocess(imageset):\n",
    "    imageset = imageset.reshape(imageset.shape[0],28,28,1)/255.\n",
    "    return np.where(imageset > .5, 1.0,0.0).astype('float32')"
   ]
  },
  {
   "cell_type": "code",
   "execution_count": 168,
   "metadata": {},
   "outputs": [],
   "source": [
    "# Pre-processed images \n",
    "x_train_images = binary_preprocess(x_train)\n",
    "x_test_images = binary_preprocess(x_test)"
   ]
  },
  {
   "cell_type": "code",
   "execution_count": 216,
   "metadata": {},
   "outputs": [],
   "source": [
    "# Dataset object to get a mini-batch\n",
    "batch_size = 32\n",
    "train_size = x_train_images.shape[0]\n",
    "train_dataset = (tf.data.Dataset.from_tensor_slices(x_train_images)\n",
    "                 .shuffle(train_size).batch(batch_size))"
   ]
  },
  {
   "cell_type": "code",
   "execution_count": 173,
   "metadata": {
    "id": "ZyuVnihrv0Aa"
   },
   "outputs": [],
   "source": [
    "def get_encoder():\n",
    "  # THE ENCODER DEFINITION\n",
    "    encoded = tf.keras.models.Sequential(\n",
    "          [\n",
    "            tf.keras.layers.InputLayer(input_shape=(28, 28, 1)),\n",
    "            tf.keras.layers.Conv2D(\n",
    "                filters=32, kernel_size=3, strides=(2, 2), activation='relu'),\n",
    "            tf.keras.layers.Conv2D(\n",
    "                filters=64, kernel_size=3, strides=(2, 2), activation='relu'),\n",
    "            tf.keras.layers.Flatten(),\n",
    "            # No activation\n",
    "            tf.keras.layers.Dense(4),\n",
    "        ]\n",
    "    )\n",
    "    return encoded\n",
    "\n",
    "\n",
    "def get_decoder():\n",
    "    decoded = tf.keras.Sequential(\n",
    "        [\n",
    "            tf.keras.layers.InputLayer(input_shape=(2,)),\n",
    "            tf.keras.layers.Dense(units=7*7*32, activation=tf.nn.relu),\n",
    "            tf.keras.layers.Reshape(target_shape=(7, 7, 32)),\n",
    "            tf.keras.layers.Conv2DTranspose(\n",
    "                filters=64, kernel_size=3, strides=2, padding='same',\n",
    "                activation='relu'),\n",
    "            tf.keras.layers.Conv2DTranspose(\n",
    "                filters=32, kernel_size=3, strides=2, padding='same',\n",
    "                activation='relu'),\n",
    "            # No activation\n",
    "            tf.keras.layers.Conv2DTranspose(\n",
    "                filters=1, kernel_size=3, strides=1, padding='same'),\n",
    "        ]\n",
    "    )\n",
    "\n",
    "    return decoded\n"
   ]
  },
  {
   "cell_type": "markdown",
   "metadata": {},
   "source": [
    "## Terminology \n",
    "\n",
    "- mean is $\\mu$\n",
    "- variance is $\\sigma^2$\n",
    "- std deviation is $\\sigma$\n",
    "- $\\log{\\sigma}$ = $\\frac{1}{2}{log{\\sigma^2}}$\n",
    "- $\\sigma$ = $\\exp({\\frac{1}{2}{log{\\sigma^2}}})$\n",
    "- - $\\log{\\sigma^2}$ = $2{log{\\sigma}}$\n"
   ]
  },
  {
   "cell_type": "code",
   "execution_count": 211,
   "metadata": {},
   "outputs": [],
   "source": [
    "# Encoding step\n",
    "# Get the mean and the variance\n",
    "def encode(encoder,x):\n",
    "    activations = encoder(x)\n",
    "    mean, variance = tf.split(activations,num_or_size_splits=2,axis=1)\n",
    "    return mean,variance\n",
    "\n",
    "# Reparametrization step\n",
    "def sample(mu, logvar):\n",
    "    e = tf.random.normal(shape=mu.shape)\n",
    "    return e * tf.exp(logvar/2) + mu\n",
    "\n",
    "# Combine the autoencoder\n",
    "def autoencoder(encoder,decoder,x):\n",
    "    mean,logvariance = encode(encoder,x)\n",
    "    z = sample(mean,logvariance)\n",
    "    output = decoder(z)\n",
    "    return output"
   ]
  },
  {
   "cell_type": "markdown",
   "metadata": {},
   "source": [
    "## Be careful\n",
    "\n",
    "1. What is `sample` above?\n",
    "\n",
    "2. What is the PDF of a normal distribution?\n",
    "\n",
    "$$\n",
    "f(x)=\\frac{1}{\\sigma \\sqrt{2 \\pi}} e^{-\\frac{1}{2}\\left(\\frac{x-\\mu}{\\sigma}\\right)^{2}}\n",
    "$$\n",
    "\n",
    "3. Mean squared error is not the right approach. Because we assume each is normally distributed"
   ]
  },
  {
   "cell_type": "code",
   "execution_count": 261,
   "metadata": {},
   "outputs": [],
   "source": [
    "mean, variance = encode(harencoder,x_train_images)"
   ]
  },
  {
   "cell_type": "code",
   "execution_count": 262,
   "metadata": {},
   "outputs": [
    {
     "data": {
      "text/plain": [
       "<tf.Tensor: shape=(60000, 2), dtype=float32, numpy=\n",
       "array([[ 0.2548442 ,  0.07210281],\n",
       "       [ 1.7183516 , -1.2550998 ],\n",
       "       [ 0.02361488,  0.9139986 ],\n",
       "       ...,\n",
       "       [-1.3921298 ,  1.1864004 ],\n",
       "       [ 1.8548329 ,  1.2522751 ],\n",
       "       [-0.3437529 , -0.62872946]], dtype=float32)>"
      ]
     },
     "execution_count": 262,
     "metadata": {},
     "output_type": "execute_result"
    }
   ],
   "source": []
  },
  {
   "cell_type": "code",
   "execution_count": 213,
   "metadata": {},
   "outputs": [],
   "source": [
    "# Quick way to get the log likelihood of a normal distribution\n",
    "def log_normal_pdf(value, mean, logvar, raxis=1):\n",
    "    log_2pi = tf.math.log(2. * np.pi)\n",
    "    logpdf = -(logvar + log_2pi + (value - mean)**2. * tf.exp(-logvar))/2\n",
    "    return tf.reduce_sum(logpdf,axis=1)\n",
    "\n",
    "# Loss over the assumed distribution(qz_x) and the prior(pz)\n",
    "def kl_loss(encoder, x):\n",
    "    mean, logvar = encode(encoder,x)\n",
    "    z = sample(mean,logvar)\n",
    "    logpz = log_normal_pdf(z, 0., 0.)\n",
    "    logqz_x = log_normal_pdf(z, mean, logvar)\n",
    "    return tf.reduce_mean(logqz_x - logpz)\n",
    "\n",
    "# This is now binary cross entropy\n",
    "# Crucially, observe that we sum across the image dimensions\n",
    "# and only take the mean in the images dimension\n",
    "def reconstruction_loss(encoder,decoder,x):\n",
    "    x_logits = autoencoder(encoder,decoder,x)\n",
    "    loss = tf.nn.sigmoid_cross_entropy_with_logits(logits=x_logits,labels=x)\n",
    "    return tf.reduce_mean(tf.reduce_sum(loss,axis=[1,2,3]))"
   ]
  },
  {
   "cell_type": "code",
   "execution_count": null,
   "metadata": {},
   "outputs": [],
   "source": [
    "# Define the loss function\n",
    "\n",
    "# Instantiate an optimizerc\n",
    "optimizer = tf.keras.optimizers.Adam(learning_rate=1e-3)\n",
    "\n",
    "# Define number of epochs\n",
    "num_epochs = 10\n",
    "harencoder = get_encoder()\n",
    "hardecoder = get_decoder()\n",
    "\n",
    "train_size = x_train_images.shape[0]\n",
    "batch_size = 32\n",
    "\n",
    "# Loop over the required number of epochs\n",
    "for i in range(num_epochs):\n",
    "    for i in range(int(train_size/batch_size)):\n",
    "        \n",
    "        x_train_batch = x_train_images[np.random.choice(train_size,batch_size)]\n",
    "        \n",
    "\n",
    "        with tf.GradientTape(persistent=True) as t:\n",
    "\n",
    "            decoder_output = autoencoder(harencoder,hardecoder,x_train_batch)\n",
    "\n",
    "            L1 = reconstruction_loss(encoder,decoder,x_train_batch)\n",
    "            L2 = kl_loss(encoder,x_train_batch)\n",
    "            loss = L1 + L2\n",
    "        gradients1 = t.gradient(loss, decoder.trainable_weights)\n",
    "        gradients2 = t.gradient(loss, encoder.trainable_weights)\n",
    "\n",
    "        optimizer.apply_gradients(zip(gradients1, decoder.trainable_weights))\n",
    "        optimizer.apply_gradients(zip(gradients2, encoder.trainable_weights))\n",
    "\n",
    "          \n",
    "    print(f'Loss at epoch {i} is {loss:.2f}, KL Divergence is {L2:.2f}')\n"
   ]
  },
  {
   "cell_type": "code",
   "execution_count": 258,
   "metadata": {},
   "outputs": [
    {
     "data": {
      "text/plain": [
       "<matplotlib.image.AxesImage at 0x198b6bdf0>"
      ]
     },
     "execution_count": 258,
     "metadata": {},
     "output_type": "execute_result"
    },
    {
     "data": {
      "image/png": "[encoded data removed]",
      "text/plain": [
       "<Figure size 432x288 with 2 Axes>"
      ]
     },
     "metadata": {
      "needs_background": "light"
     },
     "output_type": "display_data"
    }
   ],
   "source": [
    "# Verify if there is some learning\n",
    "fig, ax = plt.subplots(1,2)\n",
    "\n",
    "# Prediction \n",
    "pred = tf.sigmoid(autoencoder(harencoder,hardecoder,x_test_images[0:1]))\n",
    "pred = pred.numpy().squeeze()\n",
    "\n",
    "ax[0].imshow(x_test_images[0].squeeze(),cmap='gray')\n",
    "ax[1].imshow(pred,cmap='gray')"
   ]
  }
 ],
 "metadata": {
  "colab": {
   "collapsed_sections": [],
   "name": "VAE.ipynb",
   "provenance": []
  },
  "kernelspec": {
   "display_name": "Python 3",
   "language": "python",
   "name": "python3"
  },
  "language_info": {
   "codemirror_mode": {
    "name": "ipython",
    "version": 3
   },
   "file_extension": ".py",
   "mimetype": "text/x-python",
   "name": "python",
   "nbconvert_exporter": "python",
   "pygments_lexer": "ipython3",
   "version": "3.8.3"
  }
 },
 "nbformat": 4,
 "nbformat_minor": 4
}
