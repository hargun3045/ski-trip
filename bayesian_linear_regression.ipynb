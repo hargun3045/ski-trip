{
 "cells": [
  {
   "cell_type": "code",
   "execution_count": 1,
   "metadata": {
    "id": "XBM9guE-OuJ6"
   },
   "outputs": [],
   "source": [
    "# Import necessary libraries\n",
    "from sklearn.linear_model import LinearRegression\n",
    "import matplotlib.pyplot as plt\n",
    "import pandas as pd\n",
    "import numpy as np\n",
    "%matplotlib inline\n",
    "\n",
    "from scipy import stats\n",
    "from scipy.stats import norm\n"
   ]
  },
  {
   "cell_type": "code",
   "execution_count": 4,
   "metadata": {
    "id": "vm10bwKHOyal"
   },
   "outputs": [],
   "source": [
    "# Read the data file\n",
    "df = pd.read_csv(\"Advertising_Adj.csv\")\n",
    "\n",
    "# Get the predictor and response variables\n",
    "x = df.tv.values\n",
    "y = df.sales.values"
   ]
  },
  {
   "cell_type": "code",
   "execution_count": 5,
   "metadata": {
    "colab": {
     "base_uri": "https://localhost:8080/",
     "height": 204
    },
    "id": "pRNPtHycUX3M",
    "outputId": "8e981996-4c8e-490d-f1ee-376334a6348e"
   },
   "outputs": [
    {
     "data": {
      "text/html": [
       "<div>\n",
       "<style scoped>\n",
       "    .dataframe tbody tr th:only-of-type {\n",
       "        vertical-align: middle;\n",
       "    }\n",
       "\n",
       "    .dataframe tbody tr th {\n",
       "        vertical-align: top;\n",
       "    }\n",
       "\n",
       "    .dataframe thead th {\n",
       "        text-align: right;\n",
       "    }\n",
       "</style>\n",
       "<table border=\"1\" class=\"dataframe\">\n",
       "  <thead>\n",
       "    <tr style=\"text-align: right;\">\n",
       "      <th></th>\n",
       "      <th>tv</th>\n",
       "      <th>sales</th>\n",
       "    </tr>\n",
       "  </thead>\n",
       "  <tbody>\n",
       "    <tr>\n",
       "      <th>0</th>\n",
       "      <td>230.1</td>\n",
       "      <td>465.26</td>\n",
       "    </tr>\n",
       "    <tr>\n",
       "      <th>1</th>\n",
       "      <td>44.5</td>\n",
       "      <td>218.95</td>\n",
       "    </tr>\n",
       "    <tr>\n",
       "      <th>2</th>\n",
       "      <td>17.2</td>\n",
       "      <td>195.79</td>\n",
       "    </tr>\n",
       "    <tr>\n",
       "      <th>3</th>\n",
       "      <td>151.5</td>\n",
       "      <td>389.47</td>\n",
       "    </tr>\n",
       "    <tr>\n",
       "      <th>4</th>\n",
       "      <td>180.8</td>\n",
       "      <td>271.58</td>\n",
       "    </tr>\n",
       "  </tbody>\n",
       "</table>\n",
       "</div>"
      ],
      "text/plain": [
       "      tv   sales\n",
       "0  230.1  465.26\n",
       "1   44.5  218.95\n",
       "2   17.2  195.79\n",
       "3  151.5  389.47\n",
       "4  180.8  271.58"
      ]
     },
     "execution_count": 5,
     "metadata": {},
     "output_type": "execute_result"
    }
   ],
   "source": [
    "df.head()"
   ]
  },
  {
   "cell_type": "code",
   "execution_count": 6,
   "metadata": {
    "colab": {
     "base_uri": "https://localhost:8080/"
    },
    "id": "FahfYNogbnZO",
    "outputId": "58a8ef76-fbc5-4902-ba45-7981191def27"
   },
   "outputs": [
    {
     "data": {
      "text/plain": [
       "LinearRegression()"
      ]
     },
     "execution_count": 6,
     "metadata": {},
     "output_type": "execute_result"
    }
   ],
   "source": [
    "model = LinearRegression()\n",
    "\n",
    "model.fit(df[['tv']], df['sales'])"
   ]
  },
  {
   "cell_type": "code",
   "execution_count": 7,
   "metadata": {
    "colab": {
     "base_uri": "https://localhost:8080/"
    },
    "id": "6Sl6Hj_ubnce",
    "outputId": "64fd52b2-0d43-43b2-9608-87ba1360f056"
   },
   "outputs": [
    {
     "data": {
      "text/plain": [
       "(array([1.00077387]), 148.0542586883501)"
      ]
     },
     "execution_count": 7,
     "metadata": {},
     "output_type": "execute_result"
    }
   ],
   "source": [
    "model.coef_, model.intercept_"
   ]
  },
  {
   "cell_type": "code",
   "execution_count": 8,
   "metadata": {
    "colab": {
     "base_uri": "https://localhost:8080/",
     "height": 282
    },
    "id": "duik9uH2atrm",
    "outputId": "12e447ff-7921-49f2-95b5-e75688996f1f"
   },
   "outputs": [
    {
     "data": {
      "text/plain": [
       "[<matplotlib.lines.Line2D at 0x1258fe1c0>]"
      ]
     },
     "execution_count": 8,
     "metadata": {},
     "output_type": "execute_result"
    },
    {
     "data": {
      "image/png": "[encoded data removed]",
      "text/plain": [
       "<Figure size 432x288 with 1 Axes>"
      ]
     },
     "metadata": {
      "needs_background": "light"
     },
     "output_type": "display_data"
    }
   ],
   "source": [
    "plt.plot(x,y,'o')\n",
    "plt.plot(x,model.predict(df[['tv']]))"
   ]
  },
  {
   "cell_type": "code",
   "execution_count": 87,
   "metadata": {
    "id": "Zb6TOY-J7tpW"
   },
   "outputs": [],
   "source": [
    "# List to store the accepted beta values in a list \n",
    "beta0_list = []\n",
    "beta1_list = []"
   ]
  },
  {
   "cell_type": "code",
   "execution_count": 100,
   "metadata": {
    "id": "PALd2Q8q_RrQ"
   },
   "outputs": [],
   "source": [
    "# Initial beta values\n",
    "beta0=np.random.normal(loc=1,scale=1)\n",
    "beta1=np.random.normal(loc=1,scale=1)"
   ]
  },
  {
   "cell_type": "code",
   "execution_count": 101,
   "metadata": {
    "id": "K9WVddAUCO6t"
   },
   "outputs": [],
   "source": [
    "# Function to get the prior given the beta0 and beta1 values\n",
    "def get_prior(beta0,beta1):\n",
    "  prior_b0 = np.log(norm.pdf(beta0,1, 1))\n",
    "  prior_b1 = np.log(norm.pdf(beta1,1200))\n",
    "  prior = np.sum(prior_b0+prior_b1)\n",
    "  \n",
    "  return prior"
   ]
  },
  {
   "cell_type": "code",
   "execution_count": 102,
   "metadata": {
    "id": "19_irdk2VF2t"
   },
   "outputs": [],
   "source": [
    "# Compute the likelihood for the initial beta values\n",
    "likelihood = np.sum([-1*np.log(((y[j] - ((beta0*x[j]) + beta1))**2)) for j in range(len(x))])\n",
    "\n",
    "# Get the prior of the intial beta values\n",
    "prior = get_prior(beta0,beta1)\n",
    "\n",
    "# Compute the posterior of the initial beta values\n",
    "posterior = likelihood + prior\n"
   ]
  },
  {
   "cell_type": "code",
   "execution_count": 103,
   "metadata": {
    "id": "CIeVWv9gVQWV"
   },
   "outputs": [],
   "source": [
    "# Save the initial posterior value as prev_posterior for comparision later\n",
    "prev_posterior = posterior\n",
    "# Append the initial beta values to the list\n",
    "beta0_list.append(beta0)\n",
    "beta1_list.append(beta1)"
   ]
  },
  {
   "cell_type": "code",
   "execution_count": 104,
   "metadata": {
    "id": "wmtM813m8dgn"
   },
   "outputs": [],
   "source": [
    "# Number of sampling epochs\n",
    "epochs = 250000\n",
    "\n",
    "for i in range(epochs):\n",
    "\n",
    "  # Get the new proposed beta values\n",
    "  beta0 = np.random.normal(loc=beta0_list[-1],scale=0.5)\n",
    "  beta1 = np.random.normal(loc=beta1_list[-1],scale=0.1)\n",
    "\n",
    "  # Get the prior values for the proposed beta values\n",
    "  prior = get_prior(beta0,beta1)\n",
    "\n",
    "\n",
    "  # Compute P(data|w) i.e. the log-likelihood for all the data points\n",
    "  likelihood = np.sum([-1*np.log(((y[j] - ((beta0*x[j]) + beta1))**2)) for j in range(len(x))])\n",
    "\n",
    "  # To compute the posterior given the likelihood and prior\n",
    "  posterior = likelihood + prior\n",
    "\n",
    "  # Just the exponential of the ratio (Not the probability)\n",
    "  prob = np.exp(posterior - prev_posterior)\n",
    "\n",
    "  # If the prob is greater than 1 then the new proabability is larger than the old probability\n",
    "  # Accept the values in this case\n",
    "  if prob>1:\n",
    "\n",
    "    # Append the beta0 and beta1 list values\n",
    "    beta0_list.append(beta0)\n",
    "    beta1_list.append(beta1)\n",
    "\n",
    "    # Save the accepted posterior as the previous posterior\n",
    "    prev_posterior = posterior\n",
    "\n",
    "  else:\n",
    "    coin = np.random.uniform(0, 1)\n",
    "\n",
    "    # Accept the values in this case\n",
    "    if coin>0.9:\n",
    "      beta0_list.append(beta0)\n",
    "      beta1_list.append(beta1)\n",
    "      prev_posterior = posterior\n",
    "\n"
   ]
  },
  {
   "cell_type": "code",
   "execution_count": 105,
   "metadata": {
    "id": "Hr1dtDS_ZaMG"
   },
   "outputs": [],
   "source": [
    "# The number of data points to consider after the beta list has been populated\n",
    "# The initial values of the lists will be random and hence can be removed\n",
    "burn_rate = int(len(beta0_list)*0.3)"
   ]
  },
  {
   "cell_type": "code",
   "execution_count": 106,
   "metadata": {
    "colab": {
     "base_uri": "https://localhost:8080/"
    },
    "id": "gwnop6UiU9KT",
    "outputId": "563077f0-ac19-492d-c8e2-6b8957c0cde4"
   },
   "outputs": [
    {
     "data": {
      "text/plain": [
       "(array([9.0000e+00, 4.7000e+01, 7.0600e+02, 7.9080e+03, 4.8203e+04,\n",
       "        2.7911e+04, 6.2660e+03, 6.0400e+02, 3.2000e+01, 3.0000e+00]),\n",
       " array([-2.74914155, -1.9419034 , -1.13466525, -0.3274271 ,  0.47981105,\n",
       "         1.2870492 ,  2.09428736,  2.90152551,  3.70876366,  4.51600181,\n",
       "         5.32323996]),\n",
       " <a list of 10 Patch objects>)"
      ]
     },
     "execution_count": 106,
     "metadata": {},
     "output_type": "execute_result"
    },
    {
     "data": {
      "image/png": "[encoded data removed]",
      "text/plain": [
       "<Figure size 432x288 with 1 Axes>"
      ]
     },
     "metadata": {
      "needs_background": "light"
     },
     "output_type": "display_data"
    }
   ],
   "source": [
    "plt.hist(beta0_list[:-burn_rate])"
   ]
  },
  {
   "cell_type": "code",
   "execution_count": 107,
   "metadata": {
    "colab": {
     "base_uri": "https://localhost:8080/"
    },
    "id": "oD9DeZfLL2SN",
    "outputId": "fe7d1ece-3f62-4b1a-b370-abb6336d545c"
   },
   "outputs": [
    {
     "data": {
      "text/plain": [
       "(array([14399., 10666.,  1529.,     0.,     0.,     0.,     0.,     0.,\n",
       "        33152., 31943.]),\n",
       " array([ -3.18063674,  14.64408929,  32.46881533,  50.29354136,\n",
       "         68.11826739,  85.94299343, 103.76771946, 121.5924455 ,\n",
       "        139.41717153, 157.24189756, 175.0666236 ]),\n",
       " <a list of 10 Patch objects>)"
      ]
     },
     "execution_count": 107,
     "metadata": {},
     "output_type": "execute_result"
    },
    {
     "data": {
      "image/png": "[encoded data removed]",
      "text/plain": [
       "<Figure size 432x288 with 1 Axes>"
      ]
     },
     "metadata": {
      "needs_background": "light"
     },
     "output_type": "display_data"
    }
   ],
   "source": [
    "plt.hist(beta1_list[:-burn_rate])"
   ]
  },
  {
   "cell_type": "code",
   "execution_count": 108,
   "metadata": {},
   "outputs": [
    {
     "data": {
      "text/plain": [
       "[<matplotlib.lines.Line2D at 0x12792a6a0>]"
      ]
     },
     "execution_count": 108,
     "metadata": {},
     "output_type": "execute_result"
    },
    {
     "data": {
      "image/png": "[encoded data removed]",
      "text/plain": [
       "<Figure size 432x288 with 1 Axes>"
      ]
     },
     "metadata": {
      "needs_background": "light"
     },
     "output_type": "display_data"
    }
   ],
   "source": [
    "plt.plot(beta0_list,beta1_list)"
   ]
  },
  {
   "cell_type": "code",
   "execution_count": null,
   "metadata": {},
   "outputs": [],
   "source": []
  }
 ],
 "metadata": {
  "colab": {
   "collapsed_sections": [],
   "name": "bayesian_linear_regression.ipynb",
   "provenance": []
  },
  "kernelspec": {
   "display_name": "Python 3",
   "language": "python",
   "name": "python3"
  },
  "language_info": {
   "codemirror_mode": {
    "name": "ipython",
    "version": 3
   },
   "file_extension": ".py",
   "mimetype": "text/x-python",
   "name": "python",
   "nbconvert_exporter": "python",
   "pygments_lexer": "ipython3",
   "version": "3.8.3"
  }
 },
 "nbformat": 4,
 "nbformat_minor": 4
}
