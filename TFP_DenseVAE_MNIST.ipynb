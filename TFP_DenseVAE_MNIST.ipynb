{
 "cells": [
  {
   "cell_type": "code",
   "execution_count": 22,
   "metadata": {
    "id": "Oky2mXp_t1jZ"
   },
   "outputs": [],
   "source": [
    "import numpy as np\n",
    "import pandas as p\n",
    "import tensorflow as tf\n",
    "\n",
    "import matplotlib.pyplot as plt\n",
    "\n",
    "from tensorflow.keras.datasets import mnist\n",
    "from tensorflow.keras import layers, models, optimizers, regularizers\n",
    "import tensorflow_probability as tfp"
   ]
  },
  {
   "cell_type": "code",
   "execution_count": 26,
   "metadata": {},
   "outputs": [],
   "source": [
    "tfd = tfp.distributions"
   ]
  },
  {
   "cell_type": "code",
   "execution_count": 4,
   "metadata": {
    "id": "ZdL7eKx2Riq4"
   },
   "outputs": [],
   "source": [
    "# GET THE MNIST DATA\n",
    "(x_train, y_test), (x_test, y_test) = mnist.load_data()\n"
   ]
  },
  {
   "cell_type": "code",
   "execution_count": 5,
   "metadata": {},
   "outputs": [],
   "source": [
    "# Function to \n",
    "# 1. Change dimensions\n",
    "# 2. Change datatype\n",
    "def binary_preprocess(imageset):\n",
    "    imageset = imageset.reshape(imageset.shape[0],28,28,1)/255.\n",
    "    return np.where(imageset > .5, 1.0,0.0).astype('float32')"
   ]
  },
  {
   "cell_type": "code",
   "execution_count": 6,
   "metadata": {},
   "outputs": [],
   "source": [
    "# Pre-processed images \n",
    "x_train_images = binary_preprocess(x_train)\n",
    "x_test_images = binary_preprocess(x_test)"
   ]
  },
  {
   "cell_type": "code",
   "execution_count": 7,
   "metadata": {},
   "outputs": [],
   "source": [
    "# Dataset object to get a mini-batch\n",
    "batch_size = 100\n",
    "train_size = x_train_images.shape[0]"
   ]
  },
  {
   "cell_type": "code",
   "execution_count": 139,
   "metadata": {},
   "outputs": [],
   "source": [
    "def get_encoder():\n",
    "  # THE ENCODER DEFINITION\n",
    "    prior = tfd.Independent(tfd.Normal(loc=tf.zeros(2), scale=1.), \n",
    "                            reinterpreted_batch_ndims=1)\n",
    "    input_shape = (28,28,1)\n",
    "    encoded = tf.keras.models.Sequential(\n",
    "          [\n",
    "            tf.keras.layers.InputLayer(input_shape=input_shape),\n",
    "            tf.keras.layers.Flatten(),\n",
    "            tf.keras.layers.Dense(256,activation='relu'),\n",
    "            tf.keras.layers.Dense(tfp.layers.IndependentNormal.params_size(2), \n",
    "                                         activation=None, name='z_params'),          \n",
    "            # No activation\n",
    "            tfp.layers.IndependentNormal(2, \n",
    "                    convert_to_tensor_fn=tfd.Distribution.sample, \n",
    "                    activity_regularizer=tfp.layers.KLDivergenceRegularizer(prior, weight=1), \n",
    "                    name='z_layer'),\n",
    "        ]\n",
    "    )\n",
    "    return encoded\n",
    "\n",
    "\n",
    "# Sequential API decoder\n",
    "\n",
    "def get_decoder():\n",
    "    decoded = tf.keras.Sequential(\n",
    "        [\n",
    "            tf.keras.layers.InputLayer(input_shape=(2,)),              \n",
    "            tf.keras.layers.Dense(32, activation='relu'),\n",
    "            tf.keras.layers.Dense(128, activation='relu'),            \n",
    "            tf.keras.layers.Dense(784),\n",
    "            tfp.layers.IndependentBernoulli((28,28,1), name='x_layer')\n",
    "        ]\n",
    "    )\n",
    "\n",
    "    return decoded\n",
    "\n",
    "def autoencoder(encoder,decoder):\n",
    "    x_input = tf.keras.Input(shape=(28,28,1))\n",
    "    encoder = get_encoder()\n",
    "    decoder = get_decoder()\n",
    "    z = encoder(x_input)\n",
    "\n",
    "    # compile VAE model\n",
    "    model = tf.keras.Model(inputs=x_input, outputs=decoder(z))\n",
    "    model.compile(loss=negative_log_likelihood, \n",
    "                  optimizer=tf.keras.optimizers.Adam(1e-3))\n",
    "    return model\n",
    "\n",
    "# the negative of log-likelihood for probabilistic output\n",
    "negative_log_likelihood = lambda x, rv_x: -rv_x.log_prob(x)\n"
   ]
  },
  {
   "cell_type": "code",
   "execution_count": 106,
   "metadata": {},
   "outputs": [],
   "source": [
    "def get_encoder():\n",
    "    # define prior distribution for the code, which is an isotropic Gaussian\n",
    "    prior = tfd.Independent(tfd.Normal(loc=tf.zeros(2), scale=1.), \n",
    "                            reinterpreted_batch_ndims=1)\n",
    "    # build layers argument for tf.keras.Sequential()\n",
    "    input_shape = (28,28,1)\n",
    "    layers = [tf.keras.layers.InputLayer(input_shape=input_shape)]\n",
    "    layers.append(tf.keras.layers.Conv2D(filters=32, kernel_size=3, strides=(2,2), \n",
    "                              padding='valid', activation='relu'))\n",
    "    layers.append(tf.keras.layers.Conv2D(filters=64, kernel_size=3, strides=(2,2), \n",
    "                              padding='valid', activation='relu'))\n",
    "    layers.append(tf.keras.layers.Flatten())\n",
    "    # the following two lines set the output to be a probabilistic distribution\n",
    "    layers.append(tf.keras.layers.Dense(tfp.layers.IndependentNormal.params_size(2), \n",
    "                             activation=None, name='z_params'))\n",
    "    layers.append(tfp.layers.IndependentNormal(2, \n",
    "        convert_to_tensor_fn=tfd.Distribution.sample, \n",
    "        activity_regularizer=tfp.layers.KLDivergenceRegularizer(prior, weight=1), \n",
    "        name='z_layer'))\n",
    "    return tf.keras.Sequential(layers, name='encoder')\n",
    "\n",
    "\n",
    "def get_decoder():\n",
    "    layers = [tf.keras.layers.InputLayer(input_shape=2)]\n",
    "    layers.append(tf.keras.layers.Dense(7*7*32, activation=None))\n",
    "    layers.append(tf.keras.layers.Reshape((7,7,32)))\n",
    "    layers.append(tf.keras.layers.Conv2DTranspose(filters=64, kernel_size=3, strides=2, \n",
    "                                       padding='same', activation='relu'))\n",
    "    layers.append(tf.keras.layers.Conv2DTranspose(filters=32, kernel_size=3, strides=2, \n",
    "                                       padding='same', activation='relu'))\n",
    "    layers.append(tf.keras.layers.Conv2DTranspose(filters=1, kernel_size=3, strides=1, \n",
    "                                       padding='same'))\n",
    "    layers.append(tf.keras.layers.Flatten(name='x_params'))\n",
    "    # note that here we don't need \n",
    "    # `tf.keras.layers.Dense(tfp.layers.IndependentBernoulli.params_size(self.dim_x))` because \n",
    "    # we've restored the desired input shape with the last Conv2DTranspose layer\n",
    "    layers.append(tfp.layers.IndependentBernoulli((28,28,1), name='x_layer'))\n",
    "    return tf.keras.Sequential(layers, name='decoder')\n",
    "\n",
    "\n",
    "def autoencoder(encoder,decoder):\n",
    "    x_input = tf.keras.Input(shape=(28,28,1))\n",
    "    encoder = get_encoder()\n",
    "    decoder = get_decoder()\n",
    "    z = encoder(x_input)\n",
    "\n",
    "    # compile VAE model\n",
    "    model = tf.keras.Model(inputs=x_input, outputs=decoder(z))\n",
    "    model.compile(loss=negative_log_likelihood, \n",
    "                  optimizer=tf.keras.optimizers.Adam(1e-3))\n",
    "    return model\n",
    "\n",
    "# the negative of log-likelihood for probabilistic output\n",
    "negative_log_likelihood = lambda x, rv_x: -rv_x.log_prob(x)"
   ]
  },
  {
   "cell_type": "code",
   "execution_count": 140,
   "metadata": {},
   "outputs": [],
   "source": [
    "# Instantiate \n",
    "harencoder = get_encoder()\n",
    "hardecoder = get_decoder()\n",
    "model = autoencoder(harencoder,hardecoder)"
   ]
  },
  {
   "cell_type": "code",
   "execution_count": 141,
   "metadata": {},
   "outputs": [
    {
     "name": "stdout",
     "output_type": "stream",
     "text": [
      "Epoch 1/10\n",
      "600/600 [==============================] - 3s 3ms/step - loss: 247.7511\n",
      "Epoch 2/10\n",
      "600/600 [==============================] - 2s 3ms/step - loss: 173.5452\n",
      "Epoch 3/10\n",
      "600/600 [==============================] - 2s 3ms/step - loss: 168.6867\n",
      "Epoch 4/10\n",
      "600/600 [==============================] - 2s 3ms/step - loss: 165.8147\n",
      "Epoch 5/10\n",
      "600/600 [==============================] - 2s 4ms/step - loss: 163.8519\n",
      "Epoch 6/10\n",
      "600/600 [==============================] - 2s 3ms/step - loss: 161.8502\n",
      "Epoch 7/10\n",
      "600/600 [==============================] - 2s 3ms/step - loss: 160.0112\n",
      "Epoch 8/10\n",
      "600/600 [==============================] - 2s 3ms/step - loss: 158.6994\n",
      "Epoch 9/10\n",
      "600/600 [==============================] - 2s 4ms/step - loss: 157.5321\n",
      "Epoch 10/10\n",
      "600/600 [==============================] - 3s 5ms/step - loss: 156.6127\n"
     ]
    },
    {
     "data": {
      "text/plain": [
       "<tensorflow.python.keras.callbacks.History at 0x151e70970>"
      ]
     },
     "execution_count": 141,
     "metadata": {},
     "output_type": "execute_result"
    }
   ],
   "source": [
    "model.fit(x_train_images,x_train_images,batch_size=100,epochs=10)"
   ]
  },
  {
   "cell_type": "code",
   "execution_count": 148,
   "metadata": {},
   "outputs": [
    {
     "data": {
      "image/png": "[encoded data removed]",
      "text/plain": [
       "<Figure size 432x288 with 2 Axes>"
      ]
     },
     "metadata": {
      "needs_background": "light"
     },
     "output_type": "display_data"
    }
   ],
   "source": [
    "# Verify if there is some learning\n",
    "fig, ax = plt.subplots(1,2)\n",
    "\n",
    "test_sample = 10 \n",
    "\n",
    "# Prediction \n",
    "pred = model(x_test_images[test_sample:test_sample+1]).mode()\n",
    "pred = pred.numpy().squeeze()\n",
    "\n",
    "ax[0].imshow(x_test_images[test_sample].squeeze(),cmap='gray')\n",
    "ax[1].imshow(pred,cmap='gray')\n",
    "ax[0].set_title('True image',fontsize=14)\n",
    "ax[1].set_title('Reconstruction',fontsize=14);\n",
    "ax[0].axis('off');\n",
    "ax[1].axis('off');"
   ]
  }
 ],
 "metadata": {
  "kernelspec": {
   "display_name": "Python 3",
   "language": "python",
   "name": "python3"
  },
  "language_info": {
   "codemirror_mode": {
    "name": "ipython",
    "version": 3
   },
   "file_extension": ".py",
   "mimetype": "text/x-python",
   "name": "python",
   "nbconvert_exporter": "python",
   "pygments_lexer": "ipython3",
   "version": "3.8.3"
  }
 },
 "nbformat": 4,
 "nbformat_minor": 4
}
