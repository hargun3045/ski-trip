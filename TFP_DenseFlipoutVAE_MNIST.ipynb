{
 "cells": [
  {
   "cell_type": "code",
   "execution_count": 3,
   "metadata": {
    "id": "Oky2mXp_t1jZ"
   },
   "outputs": [],
   "source": [
    "import numpy as np\n",
    "import pandas as p\n",
    "import tensorflow as tf\n",
    "\n",
    "import matplotlib.pyplot as plt\n",
    "\n",
    "from tensorflow.keras.datasets import mnist\n",
    "from tensorflow.keras import layers, models, optimizers, regularizers\n",
    "import tensorflow_probability as tfp\n",
    "tfd = tfp.distributions\n",
    "from tensorflow_probability.python.layers import DenseVariational, DenseReparameterization, DenseFlipout\n",
    "from tensorflow_probability.python.layers import DistributionLambda\n",
    "from tensorflow.keras.models import Model, Sequential\n",
    "from tensorflow.keras.layers import Input, Dense, Flatten, BatchNormalization, Activation, LeakyReLU"
   ]
  },
  {
   "cell_type": "code",
   "execution_count": 4,
   "metadata": {
    "id": "ZdL7eKx2Riq4"
   },
   "outputs": [],
   "source": [
    "# GET THE MNIST DATA\n",
    "(x_train, y_test), (x_test, y_test) = mnist.load_data()\n"
   ]
  },
  {
   "cell_type": "code",
   "execution_count": 5,
   "metadata": {},
   "outputs": [],
   "source": [
    "# Function to \n",
    "# 1. Change dimensions\n",
    "# 2. Change datatype\n",
    "def binary_preprocess(imageset):\n",
    "    imageset = imageset.reshape(imageset.shape[0],28,28,1)/255.\n",
    "    return np.where(imageset > .5, 1.0,0.0).astype('float32')"
   ]
  },
  {
   "cell_type": "code",
   "execution_count": 6,
   "metadata": {},
   "outputs": [],
   "source": [
    "# Pre-processed images \n",
    "x_train_images = binary_preprocess(x_train)\n",
    "x_test_images = binary_preprocess(x_test)\n",
    "\n",
    "batch_size = 128\n",
    "n_epochs = 25"
   ]
  },
  {
   "cell_type": "markdown",
   "metadata": {},
   "source": [
    "### Load MNIST dataset"
   ]
  },
  {
   "cell_type": "markdown",
   "metadata": {},
   "source": [
    "### Define the kernel divergence function that comes with a weight\n",
    "\n",
    "Will help with scaling"
   ]
  },
  {
   "cell_type": "code",
   "execution_count": 7,
   "metadata": {},
   "outputs": [],
   "source": [
    "def get_kernel_divergence_fn(train_size, w=1.0):\n",
    "    def kernel_divergence_fn(q, p, _): \n",
    "        kernel_divergence = tfp.distributions.kl_divergence(q, p) / tf.cast(train_size, tf.float32)\n",
    "        return w * kernel_divergence\n",
    "    return kernel_divergence_fn"
   ]
  },
  {
   "cell_type": "code",
   "execution_count": 8,
   "metadata": {},
   "outputs": [],
   "source": [
    "# Add a variable \"weight\" to the layer\n",
    "def add_kl_weight(layer, train_size, w_value=1.0):\n",
    "    w = layer.add_weight(name=layer.name+'/kl_loss_weight', shape=(),\n",
    "                         initializer=tf.initializers.constant(w_value), trainable=False)\n",
    "    layer.kernel_divergence_fn = get_kernel_divergence_fn(train_size, w)\n",
    "    return layer"
   ]
  },
  {
   "cell_type": "markdown",
   "metadata": {},
   "source": [
    "### Define the loss function of negative log-likelihood (input as logits)"
   ]
  },
  {
   "cell_type": "code",
   "execution_count": 9,
   "metadata": {},
   "outputs": [],
   "source": [
    "def get_encoder(input_shape=(28,28,1), train_size=batch_size):\n",
    "    model_in = Input(shape=input_shape)\n",
    "    x = Flatten()(model_in)\n",
    "    dense_1 = DenseFlipout(256, activation='relu',\n",
    "                           kernel_divergence_fn=None)\n",
    "    dense_1 = add_kl_weight(dense_1, train_size)\n",
    "    x = dense_1(x)\n",
    "    dense_2 = DenseFlipout(2, activation=None,\n",
    "                           kernel_divergence_fn=None)\n",
    "    dense_2 = add_kl_weight(dense_2, train_size)\n",
    "    model_out = dense_2(x)  # logits\n",
    "    model = Model(model_in, model_out)\n",
    "    return model\n",
    "\n",
    "def get_decoder():\n",
    "    decoded = tf.keras.Sequential(\n",
    "        [\n",
    "            tf.keras.layers.InputLayer(input_shape=(2,)),              \n",
    "            tf.keras.layers.Dense(256, activation='relu'),            \n",
    "            tf.keras.layers.Dense(784),\n",
    "            tfp.layers.IndependentBernoulli((28,28,1), name='x_layer')\n",
    "        ]\n",
    "    )\n",
    "\n",
    "    return decoded\n",
    "\n",
    "def autoencoder(encoder,decoder):\n",
    "    x_input = tf.keras.Input(shape=(28,28,1))\n",
    "    encoder = get_encoder()\n",
    "    decoder = get_decoder()\n",
    "    z = encoder(x_input)\n",
    "\n",
    "    # compile VAE model\n",
    "    model = tf.keras.Model(inputs=x_input, outputs=decoder(z))\n",
    "    model.compile(loss=negative_log_likelihood, \n",
    "                  optimizer=tf.keras.optimizers.Adam(1e-3))\n",
    "    return model\n",
    "\n",
    "# the negative of log-likelihood for probabilistic output\n",
    "negative_log_likelihood = lambda x, rv_x: -rv_x.log_prob(x)\n",
    "\n"
   ]
  },
  {
   "cell_type": "code",
   "execution_count": 12,
   "metadata": {},
   "outputs": [],
   "source": [
    "# Instantiate \n",
    "harencoder = get_encoder()\n",
    "hardecoder = get_decoder()\n",
    "model = autoencoder(harencoder,hardecoder)"
   ]
  },
  {
   "cell_type": "code",
   "execution_count": 13,
   "metadata": {},
   "outputs": [
    {
     "name": "stdout",
     "output_type": "stream",
     "text": [
      "Model: \"model_5\"\n",
      "_________________________________________________________________\n",
      "Layer (type)                 Output Shape              Param #   \n",
      "=================================================================\n",
      "input_8 (InputLayer)         [(None, 28, 28, 1)]       0         \n",
      "_________________________________________________________________\n",
      "model_4 (Functional)         (None, 2)                 402692    \n",
      "_________________________________________________________________\n",
      "sequential_3 (Sequential)    multiple                  202256    \n",
      "=================================================================\n",
      "Total params: 604,948\n",
      "Trainable params: 604,946\n",
      "Non-trainable params: 2\n",
      "_________________________________________________________________\n"
     ]
    }
   ],
   "source": [
    "model.summary()"
   ]
  },
  {
   "cell_type": "code",
   "execution_count": null,
   "metadata": {},
   "outputs": [],
   "source": [
    "# Model training\n",
    "model.fit(x_train_images,x_train_images,batch_size=batch_size, epochs=n_epochs)"
   ]
  },
  {
   "cell_type": "code",
   "execution_count": 234,
   "metadata": {},
   "outputs": [
    {
     "data": {
      "text/plain": [
       "Text(0.5, 0.95, 'Input Image vs Reconstruction Image')"
      ]
     },
     "execution_count": 234,
     "metadata": {},
     "output_type": "execute_result"
    },
    {
     "data": {
      "image/png": "[encoded data removed]",
      "text/plain": [
       "<Figure size 576x720 with 6 Axes>"
      ]
     },
     "metadata": {
      "needs_background": "light"
     },
     "output_type": "display_data"
    }
   ],
   "source": [
    "# Verify if there is some learning\n",
    "fig, ax = plt.subplots(3,2,figsize=(8,10))\n",
    "\n",
    "\n",
    "# Predictio\n",
    "\n",
    "for i in range(3):\n",
    "    test_sample = np.random.randint(0,10000)\n",
    "    \n",
    "    pred = model(x_test_images[test_sample:test_sample+1]).mode()\n",
    "    pred = pred.numpy().squeeze()    \n",
    "    ax[i,0].imshow(x_test_images[test_sample].squeeze(),cmap='gray')\n",
    "    ax[i,1].imshow(pred,cmap='gray')\n",
    "#     ax[i,0].set_title('True image',fontsize=14)\n",
    "#     ax[i,1].set_title('Reconstruction',fontsize=14);\n",
    "    ax[i,0].axis('off');\n",
    "    ax[i,1].axis('off');\n",
    "\n",
    "fig.suptitle('Input Image vs Reconstruction Image',fontsize=30,y=0.95)    \n",
    "    "
   ]
  }
 ],
 "metadata": {
  "kernelspec": {
   "display_name": "Python 3",
   "language": "python",
   "name": "python3"
  },
  "language_info": {
   "codemirror_mode": {
    "name": "ipython",
    "version": 3
   },
   "file_extension": ".py",
   "mimetype": "text/x-python",
   "name": "python",
   "nbconvert_exporter": "python",
   "pygments_lexer": "ipython3",
   "version": "3.8.3"
  }
 },
 "nbformat": 4,
 "nbformat_minor": 4
}
