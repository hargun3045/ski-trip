{
 "cells": [
  {
   "cell_type": "code",
   "execution_count": 179,
   "metadata": {
    "id": "Oky2mXp_t1jZ"
   },
   "outputs": [],
   "source": [
    "import numpy as np\n",
    "import pandas as p\n",
    "import tensorflow as tf\n",
    "\n",
    "import matplotlib.pyplot as plt\n",
    "\n",
    "from tensorflow.keras.datasets import mnist\n",
    "from tensorflow.keras import layers, models, optimizers, regularizers\n",
    "import tensorflow_probability as tfp\n",
    "tfd = tfp.distributions\n",
    "from tensorflow_probability.python.layers import DenseVariational, DenseReparameterization, DenseFlipout\n",
    "from tensorflow_probability.python.layers import DistributionLambda\n",
    "from tensorflow.keras.models import Model, Sequential\n",
    "from tensorflow.keras.layers import Input, Dense, Flatten, BatchNormalization, Activation, LeakyReLU"
   ]
  },
  {
   "cell_type": "code",
   "execution_count": 180,
   "metadata": {
    "id": "ZdL7eKx2Riq4"
   },
   "outputs": [],
   "source": [
    "# GET THE MNIST DATA\n",
    "(x_train, y_test), (x_test, y_test) = mnist.load_data()\n"
   ]
  },
  {
   "cell_type": "code",
   "execution_count": 181,
   "metadata": {},
   "outputs": [],
   "source": [
    "# Function to \n",
    "# 1. Change dimensions\n",
    "# 2. Change datatype\n",
    "def binary_preprocess(imageset):\n",
    "    imageset = imageset.reshape(imageset.shape[0],28,28,1)/255.\n",
    "    return np.where(imageset > .5, 1.0,0.0).astype('float32')"
   ]
  },
  {
   "cell_type": "code",
   "execution_count": 182,
   "metadata": {},
   "outputs": [],
   "source": [
    "# Pre-processed images \n",
    "x_train_images = binary_preprocess(x_train)\n",
    "x_test_images = binary_preprocess(x_test)"
   ]
  },
  {
   "cell_type": "markdown",
   "metadata": {},
   "source": [
    "### Load MNIST dataset"
   ]
  },
  {
   "cell_type": "markdown",
   "metadata": {},
   "source": [
    "### Define the kernel divergence function that comes with a weight\n",
    "\n",
    "Will help with scaling"
   ]
  },
  {
   "cell_type": "code",
   "execution_count": 183,
   "metadata": {},
   "outputs": [],
   "source": [
    "def get_kernel_divergence_fn(train_size, w=1.0):\n",
    "    def kernel_divergence_fn(q, p, _): \n",
    "        kernel_divergence = tfp.distributions.kl_divergence(q, p) / tf.cast(train_size, tf.float32)\n",
    "        return w * kernel_divergence\n",
    "    return kernel_divergence_fn"
   ]
  },
  {
   "cell_type": "code",
   "execution_count": 184,
   "metadata": {},
   "outputs": [],
   "source": [
    "# Add a variable \"weight\" to the layer\n",
    "def add_kl_weight(layer, train_size, w_value=1.0):\n",
    "    w = layer.add_weight(name=layer.name+'/kl_loss_weight', shape=(),\n",
    "                         initializer=tf.initializers.constant(w_value), trainable=False)\n",
    "    layer.kernel_divergence_fn = get_kernel_divergence_fn(train_size, w)\n",
    "    return layer"
   ]
  },
  {
   "cell_type": "markdown",
   "metadata": {},
   "source": [
    "### Define the loss function of negative log-likelihood (input as logits)"
   ]
  },
  {
   "cell_type": "code",
   "execution_count": 186,
   "metadata": {},
   "outputs": [],
   "source": [
    "def get_encoder(input_shape=(28,28,1), train_size=batch_size):\n",
    "    model_in = Input(shape=input_shape)\n",
    "    x = Flatten()(model_in)\n",
    "    dense_1 = DenseFlipout(256, activation='relu',\n",
    "                           kernel_divergence_fn=None)\n",
    "    dense_1 = add_kl_weight(dense_1, train_size)\n",
    "    x = dense_1(x)\n",
    "    dense_2 = DenseFlipout(2, activation=None,\n",
    "                           kernel_divergence_fn=None)\n",
    "    dense_2 = add_kl_weight(dense_2, train_size)\n",
    "    model_out = dense_2(x)  # logits\n",
    "    model = Model(model_in, model_out)\n",
    "    return model\n",
    "\n",
    "def get_decoder():\n",
    "    decoded = tf.keras.Sequential(\n",
    "        [\n",
    "            tf.keras.layers.InputLayer(input_shape=(2,)),              \n",
    "            tfp.layers.DenseFlipout(256, activation='relu'),            \n",
    "            tfp.layers.DenseFlipout(784),\n",
    "            tfp.layers.IndependentBernoulli((28,28,1), name='x_layer')\n",
    "        ]\n",
    "    )\n",
    "\n",
    "    return decoded\n",
    "\n",
    "def autoencoder(encoder,decoder):\n",
    "    x_input = tf.keras.Input(shape=(28,28,1))\n",
    "    encoder = get_encoder()\n",
    "    decoder = get_decoder()\n",
    "    z = encoder(x_input)\n",
    "\n",
    "    # compile VAE model\n",
    "    model = tf.keras.Model(inputs=x_input, outputs=decoder(z))\n",
    "    model.compile(loss=negative_log_likelihood, \n",
    "                  optimizer=tf.keras.optimizers.Adam(1e-3))\n",
    "    return model\n",
    "\n",
    "# the negative of log-likelihood for probabilistic output\n",
    "negative_log_likelihood = lambda x, rv_x: -rv_x.log_prob(x)\n",
    "\n"
   ]
  },
  {
   "cell_type": "code",
   "execution_count": 132,
   "metadata": {},
   "outputs": [],
   "source": [
    "# Instantiate \n",
    "harencoder = get_encoder()\n",
    "hardecoder = get_decoder()\n",
    "model = autoencoder(harencoder,hardecoder)"
   ]
  },
  {
   "cell_type": "code",
   "execution_count": 133,
   "metadata": {},
   "outputs": [
    {
     "name": "stdout",
     "output_type": "stream",
     "text": [
      "Model: \"model_19\"\n",
      "_________________________________________________________________\n",
      "Layer (type)                 Output Shape              Param #   \n",
      "=================================================================\n",
      "input_24 (InputLayer)        [(None, 28, 28, 1)]       0         \n",
      "_________________________________________________________________\n",
      "model_18 (Functional)        (None, 2)                 402692    \n",
      "_________________________________________________________________\n",
      "sequential_7 (Sequential)    multiple                  202256    \n",
      "=================================================================\n",
      "Total params: 604,948\n",
      "Trainable params: 604,946\n",
      "Non-trainable params: 2\n",
      "_________________________________________________________________\n"
     ]
    }
   ],
   "source": [
    "model.summary()"
   ]
  },
  {
   "cell_type": "code",
   "execution_count": 189,
   "metadata": {},
   "outputs": [],
   "source": [
    "from tensorflow.keras.utils import plot_model"
   ]
  },
  {
   "cell_type": "code",
   "execution_count": 202,
   "metadata": {},
   "outputs": [
    {
     "data": {
      "image/png": "[encoded data removed]",
      "text/plain": [
       "<IPython.core.display.Image object>"
      ]
     },
     "execution_count": 202,
     "metadata": {},
     "output_type": "execute_result"
    }
   ],
   "source": [
    "plot_model(harencoder,rankdir='LR',to_file = 'encoder.png',expand_nested=True,show_shapes=True)"
   ]
  },
  {
   "cell_type": "code",
   "execution_count": 134,
   "metadata": {},
   "outputs": [
    {
     "name": "stdout",
     "output_type": "stream",
     "text": [
      "Epoch 1/25\n",
      "469/469 [==============================] - 9s 16ms/step - loss: 4030.3700\n",
      "Epoch 2/25\n",
      "469/469 [==============================] - 7s 15ms/step - loss: 3263.0913\n",
      "Epoch 3/25\n",
      "469/469 [==============================] - 7s 15ms/step - loss: 2583.1954\n",
      "Epoch 4/25\n",
      "469/469 [==============================] - 7s 15ms/step - loss: 1954.8538\n",
      "Epoch 5/25\n",
      "469/469 [==============================] - 9s 20ms/step - loss: 1398.0047\n",
      "Epoch 6/25\n",
      "469/469 [==============================] - 8s 18ms/step - loss: 939.9785\n",
      "Epoch 7/25\n",
      "469/469 [==============================] - 7s 14ms/step - loss: 599.7790\n",
      "Epoch 8/25\n",
      "469/469 [==============================] - 7s 14ms/step - loss: 379.4300\n",
      "Epoch 9/25\n",
      "469/469 [==============================] - 7s 15ms/step - loss: 260.4977\n",
      "Epoch 10/25\n",
      "469/469 [==============================] - 7s 14ms/step - loss: 207.8135\n",
      "Epoch 11/25\n",
      "469/469 [==============================] - 7s 16ms/step - loss: 188.6275\n",
      "Epoch 12/25\n",
      "469/469 [==============================] - 8s 18ms/step - loss: 182.3325\n",
      "Epoch 13/25\n",
      "469/469 [==============================] - 8s 16ms/step - loss: 179.4007\n",
      "Epoch 14/25\n",
      "469/469 [==============================] - 7s 15ms/step - loss: 178.8777\n",
      "Epoch 15/25\n",
      "469/469 [==============================] - 7s 15ms/step - loss: 177.3128\n",
      "Epoch 16/25\n",
      "469/469 [==============================] - 7s 14ms/step - loss: 176.5781\n",
      "Epoch 17/25\n",
      "469/469 [==============================] - 8s 18ms/step - loss: 175.9984\n",
      "Epoch 18/25\n",
      "469/469 [==============================] - 7s 16ms/step - loss: 175.7287\n",
      "Epoch 19/25\n",
      "469/469 [==============================] - 7s 15ms/step - loss: 174.9245\n",
      "Epoch 20/25\n",
      "469/469 [==============================] - 8s 17ms/step - loss: 174.9193\n",
      "Epoch 21/25\n",
      "469/469 [==============================] - 8s 18ms/step - loss: 174.5823\n",
      "Epoch 22/25\n",
      "469/469 [==============================] - 7s 14ms/step - loss: 174.5050\n",
      "Epoch 23/25\n",
      "469/469 [==============================] - 7s 14ms/step - loss: 173.8315\n",
      "Epoch 24/25\n",
      "469/469 [==============================] - 8s 17ms/step - loss: 174.1872\n",
      "Epoch 25/25\n",
      "469/469 [==============================] - 7s 16ms/step - loss: 173.5355\n"
     ]
    },
    {
     "data": {
      "text/plain": [
       "<tensorflow.python.keras.callbacks.History at 0x152b49eb0>"
      ]
     },
     "execution_count": 134,
     "metadata": {},
     "output_type": "execute_result"
    }
   ],
   "source": [
    "batch_size = 128\n",
    "n_epochs = 25\n",
    "model.fit(x_train_images,x_train_images,batch_size=batch_size, epochs=n_epochs)"
   ]
  },
  {
   "cell_type": "code",
   "execution_count": 234,
   "metadata": {},
   "outputs": [
    {
     "data": {
      "text/plain": [
       "Text(0.5, 0.95, 'Input Image vs Reconstruction Image')"
      ]
     },
     "execution_count": 234,
     "metadata": {},
     "output_type": "execute_result"
    },
    {
     "data": {
      "image/png": "[encoded data removed]",
      "text/plain": [
       "<Figure size 576x720 with 6 Axes>"
      ]
     },
     "metadata": {
      "needs_background": "light"
     },
     "output_type": "display_data"
    }
   ],
   "source": [
    "# Verify if there is some learning\n",
    "fig, ax = plt.subplots(3,2,figsize=(8,10))\n",
    "\n",
    "\n",
    "# Predictio\n",
    "\n",
    "for i in range(3):\n",
    "    test_sample = np.random.randint(0,10000)\n",
    "    \n",
    "    pred = model(x_test_images[test_sample:test_sample+1]).mode()\n",
    "    pred = pred.numpy().squeeze()    \n",
    "    ax[i,0].imshow(x_test_images[test_sample].squeeze(),cmap='gray')\n",
    "    ax[i,1].imshow(pred,cmap='gray')\n",
    "#     ax[i,0].set_title('True image',fontsize=14)\n",
    "#     ax[i,1].set_title('Reconstruction',fontsize=14);\n",
    "    ax[i,0].axis('off');\n",
    "    ax[i,1].axis('off');\n",
    "\n",
    "fig.suptitle('Input Image vs Reconstruction Image',fontsize=30,y=0.95)    \n",
    "    "
   ]
  }
 ],
 "metadata": {
  "kernelspec": {
   "display_name": "Python 3",
   "language": "python",
   "name": "python3"
  },
  "language_info": {
   "codemirror_mode": {
    "name": "ipython",
    "version": 3
   },
   "file_extension": ".py",
   "mimetype": "text/x-python",
   "name": "python",
   "nbconvert_exporter": "python",
   "pygments_lexer": "ipython3",
   "version": "3.8.3"
  }
 },
 "nbformat": 4,
 "nbformat_minor": 4
}
